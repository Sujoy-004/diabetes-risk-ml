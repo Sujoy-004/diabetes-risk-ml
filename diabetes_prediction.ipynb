{
  "nbformat": 4,
  "nbformat_minor": 0,
  "metadata": {
    "colab": {
      "provenance": []
    },
    "kernelspec": {
      "name": "python3",
      "display_name": "Python 3"
    },
    "language_info": {
      "name": "python"
    }
  },
  "cells": [
    {
      "cell_type": "markdown",
      "source": [
        "install necessary packages"
      ],
      "metadata": {
        "id": "2vm4KyXCbpQM"
      }
    },
    {
      "cell_type": "code",
      "source": [
        "!pip install xgboost shap scikit-learn pandas matplotlib seaborn"
      ],
      "metadata": {
        "id": "JJzTvKbPbs3C"
      },
      "execution_count": null,
      "outputs": []
    },
    {
      "cell_type": "markdown",
      "source": [
        "import"
      ],
      "metadata": {
        "id": "_80gfeM1b6BL"
      }
    },
    {
      "cell_type": "code",
      "source": [
        "import pandas as pd\n",
        "import numpy as np\n",
        "import matplotlib.pyplot as plt\n",
        "import seaborn as sns\n",
        "import shap\n",
        "import xgboost as xgb\n",
        "from sklearn.model_selection import train_test_split, StratifiedKFold\n",
        "from sklearn.metrics import (accuracy_score, precision_score, recall_score,\n",
        "                             f1_score, roc_auc_score, confusion_matrix, classification_report, roc_curve)\n",
        "from sklearn.impute import KNNImputer\n",
        "from sklearn.preprocessing import StandardScaler"
      ],
      "metadata": {
        "id": "nh2Jo1dBb7sx"
      },
      "execution_count": null,
      "outputs": []
    },
    {
      "cell_type": "markdown",
      "source": [
        "Load and inspect data"
      ],
      "metadata": {
        "id": "vWKJ2rCFcFzO"
      }
    },
    {
      "cell_type": "code",
      "source": [
        "# load dataset\n",
        "df = pd.read_csv('https://raw.githubusercontent.com/plotly/datasets/master/diabetes.csv')\n",
        "print(df.head().to_string(index=False),'\\n')\n",
        "\n",
        "# quick info\n",
        "df.info()\n",
        "df.describe()"
      ],
      "metadata": {
        "id": "sse-lr87cIHp"
      },
      "execution_count": null,
      "outputs": []
    },
    {
      "cell_type": "markdown",
      "source": [
        "Clean and impute data"
      ],
      "metadata": {
        "id": "-vPW5q0cdaLe"
      }
    },
    {
      "cell_type": "code",
      "source": [
        "# replace 0s with NaN in invalid columns\n",
        "cols_with_zero = ['Glucose', 'BloodPressure', 'SkinThickness', 'Insulin', 'BMI']\n",
        "df[cols_with_zero] = df[cols_with_zero].replace(0, np.nan)\n",
        "\n",
        "# Show NaN count\n",
        "df.isnull().sum()\n",
        "\n",
        "# Impute missing values using KNN Imputer\n",
        "imputer = KNNImputer(n_neighbors=5)\n",
        "df_imputed = pd.DataFrame(imputer.fit_transform(df), columns=df.columns)"
      ],
      "metadata": {
        "id": "Q3QT0vLRddHf"
      },
      "execution_count": null,
      "outputs": []
    },
    {
      "cell_type": "markdown",
      "source": [
        "Feature scalling"
      ],
      "metadata": {
        "id": "2sOvrKZXeEji"
      }
    },
    {
      "cell_type": "code",
      "source": [
        "# Scale features except target\n",
        "scaler = StandardScaler()\n",
        "X_scaled = scaler.fit_transform(df_imputed.drop('Outcome', axis=1))\n",
        "X = pd.DataFrame(X_scaled, columns=df.columns[:-1])\n",
        "y = df_imputed['Outcome']"
      ],
      "metadata": {
        "id": "7N2kybw3eHP7"
      },
      "execution_count": null,
      "outputs": []
    },
    {
      "cell_type": "markdown",
      "source": [
        "Train-test-split"
      ],
      "metadata": {
        "id": "nErAeuyceNVn"
      }
    },
    {
      "cell_type": "code",
      "source": [
        "X_train, X_test, y_train, y_test = train_test_split(X, y,\n",
        "                                                    test_size=0.2,\n",
        "                                                    random_state=42,\n",
        "                                                    stratify=y)\n"
      ],
      "metadata": {
        "id": "JcX1-AgeeQKg"
      },
      "execution_count": null,
      "outputs": []
    },
    {
      "cell_type": "markdown",
      "source": [
        "XGBoost Classifier"
      ],
      "metadata": {
        "id": "Zp7ClvJteW9x"
      }
    },
    {
      "cell_type": "code",
      "source": [
        "model = xgb.XGBClassifier(use_label_encoder=False, eval_metric='logloss', random_state=42)\n",
        "model.fit(X_train, y_train)"
      ],
      "metadata": {
        "id": "drxAtM_mebsz"
      },
      "execution_count": null,
      "outputs": []
    },
    {
      "cell_type": "markdown",
      "source": [
        "Risk Stratification Function"
      ],
      "metadata": {
        "id": "vSYEbMDYegmo"
      }
    },
    {
      "cell_type": "code",
      "source": [
        "def stratify_risk(prob):\n",
        "    if prob < 0.3:\n",
        "        return \"Low\"\n",
        "    elif prob < 0.7:\n",
        "        return \"Medium\"\n",
        "    else:\n",
        "        return \"High\"\n"
      ],
      "metadata": {
        "id": "6ATB4-5rfNaL"
      },
      "execution_count": null,
      "outputs": []
    },
    {
      "cell_type": "markdown",
      "source": [
        "SHAP explainability"
      ],
      "metadata": {
        "id": "lhIxtXCveqjn"
      }
    },
    {
      "cell_type": "code",
      "source": [
        "explainer = shap.Explainer(model)\n",
        "shap_values = explainer(X_test)\n",
        "\n",
        "# Global feature importance\n",
        "shap.plots.beeswarm(shap_values)\n",
        "\n",
        "# SHAP waterfall for one prediction\n",
        "shap.plots.waterfall(shap_values[0])"
      ],
      "metadata": {
        "id": "4wYRKnKWettc"
      },
      "execution_count": null,
      "outputs": []
    },
    {
      "cell_type": "markdown",
      "source": [
        "Evaluation Metrics and Visualization"
      ],
      "metadata": {
        "id": "Z_X6r2_ee0kA"
      }
    },
    {
      "cell_type": "code",
      "source": [
        "y_pred = model.predict(X_test)\n",
        "y_proba = model.predict_proba(X_test)[:,1]\n",
        "\n",
        "print(\"Accuracy:\", accuracy_score(y_test, y_pred))\n",
        "print(\"Precision:\", precision_score(y_test, y_pred))\n",
        "print(\"Recall:\", recall_score(y_test, y_pred))\n",
        "print(\"F1 Score:\", f1_score(y_test, y_pred))\n",
        "print(\"AUC-ROC:\", roc_auc_score(y_test, y_proba))\n",
        "\n",
        "# Confusion matrix\n",
        "sns.heatmap(confusion_matrix(y_test, y_pred), annot=True, fmt='d', cmap='Blues')\n",
        "plt.title(\"Confusion Matrix\")\n",
        "plt.xlabel(\"Predicted\")\n",
        "plt.ylabel(\"Actual\")\n",
        "plt.show()\n",
        "\n",
        "# ROC Curve\n",
        "fpr, tpr, thresholds = roc_curve(y_test, y_proba)\n",
        "plt.plot(fpr, tpr, label='XGBoost')\n",
        "plt.plot([0, 1], [0, 1], 'k--')\n",
        "plt.xlabel('False Positive Rate')\n",
        "plt.ylabel('True Positive Rate')\n",
        "plt.title('ROC Curve')\n",
        "plt.legend()\n",
        "plt.grid()\n",
        "plt.show()\n"
      ],
      "metadata": {
        "id": "-zwscSode42D"
      },
      "execution_count": null,
      "outputs": []
    },
    {
      "cell_type": "markdown",
      "source": [
        "risk output table"
      ],
      "metadata": {
        "id": "eh7rrkgWfAmS"
      }
    },
    {
      "cell_type": "code",
      "source": [
        "results = X_test.copy()\n",
        "results['Probability'] = y_proba\n",
        "results['Predicted'] = y_pred\n",
        "results['Risk Level'] = results['Probability'].apply(stratify_risk)\n",
        "results.head()"
      ],
      "metadata": {
        "id": "eDItZN-ufFzD"
      },
      "execution_count": null,
      "outputs": []
    }
  ]
}